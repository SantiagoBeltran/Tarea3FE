{
 "cells": [
  {
   "cell_type": "code",
   "execution_count": 1,
   "metadata": {},
   "outputs": [
    {
     "name": "stdout",
     "output_type": "stream",
     "text": [
      "Populating the interactive namespace from numpy and matplotlib\n"
     ]
    }
   ],
   "source": [
    "%pylab inline"
   ]
  },
  {
   "cell_type": "code",
   "execution_count": 2,
   "metadata": {},
   "outputs": [],
   "source": [
    "x=np.array([32.23,\n",
    "30.47,\n",
    "29.26,\n",
    "28.37,\n",
    "27.34,\n",
    "26.51,\n",
    "25.65,\n",
    "25.1\n",
    ",24.34,\n",
    "23.59,\n",
    "23.19\n",
    "])\n",
    "y=np.array([1,\n",
    "1.1,\n",
    "1.2,\n",
    "1.3,\n",
    "1.4,\n",
    "1.5,\n",
    "1.6,\n",
    "1.7,\n",
    "1.8,\n",
    "1.9,\n",
    "2\n",
    "])\n",
    "a=1.36E-3"
   ]
  },
  {
   "cell_type": "code",
   "execution_count": 3,
   "metadata": {},
   "outputs": [
    {
     "data": {
      "text/plain": [
       "array([735.29411765, 668.44919786, 612.74509804, 565.61085973,\n",
       "       525.21008403, 490.19607843, 459.55882353, 432.52595156,\n",
       "       408.49673203, 386.99690402, 367.64705882])"
      ]
     },
     "execution_count": 3,
     "metadata": {},
     "output_type": "execute_result"
    }
   ],
   "source": [
    "T2=(x/20)**2\n",
    "B_inv=1/(y*a)\n",
    "B_inv"
   ]
  },
  {
   "cell_type": "code",
   "execution_count": 4,
   "metadata": {},
   "outputs": [],
   "source": [
    "def delta(x):\n",
    "    return len(x)*np.sum(x**2)-(np.sum(x))**2\n",
    "def intercepto(x,y):\n",
    "    c=(np.sum(x**2)*np.sum(y)-np.sum(x)*np.sum(x*y))\n",
    "    return c/delta(x)\n",
    "def pendiente(x,y):\n",
    "    m= len(x)*np.sum(x*y)-np.sum(x)*np.sum(y)\n",
    "    return m/delta(x)\n"
   ]
  },
  {
   "cell_type": "code",
   "execution_count": 5,
   "metadata": {},
   "outputs": [],
   "source": [
    "def alpha_CU(x,y):\n",
    "    a=np.sum((y-pendiente(x,y)*x-intercepto(x,y))**2)\n",
    "    return np.sqrt(a/(len(x)-2))\n",
    "def alpha_C(x,y):\n",
    "    a=np.sum(x**2)\n",
    "    a2=a/delta(x)\n",
    "    return alpha_CU(x,y)*np.sqrt(a2)\n",
    "def alpha_M(x,y):\n",
    "    return alpha_CU(x,y)*np.sqrt(len(x)/delta(x))"
   ]
  },
  {
   "cell_type": "code",
   "execution_count": 6,
   "metadata": {},
   "outputs": [
    {
     "data": {
      "text/plain": [
       "0.11186396920213265"
      ]
     },
     "execution_count": 6,
     "metadata": {},
     "output_type": "execute_result"
    }
   ],
   "source": [
    "c=intercepto(B_inv,T2)\n",
    "c"
   ]
  },
  {
   "cell_type": "code",
   "execution_count": 7,
   "metadata": {},
   "outputs": [
    {
     "data": {
      "text/plain": [
       "0.0033439079984703742"
      ]
     },
     "execution_count": 7,
     "metadata": {},
     "output_type": "execute_result"
    }
   ],
   "source": [
    "m=pendiente(B_inv,T2)\n",
    "m"
   ]
  },
  {
   "cell_type": "code",
   "execution_count": 8,
   "metadata": {},
   "outputs": [],
   "source": [
    "def func(x, m, c):\n",
    "    return m*x+c"
   ]
  },
  {
   "cell_type": "code",
   "execution_count": 9,
   "metadata": {},
   "outputs": [
    {
     "data": {
      "text/plain": [
       "0.022825208327357394"
      ]
     },
     "execution_count": 9,
     "metadata": {},
     "output_type": "execute_result"
    }
   ],
   "source": [
    "a_c=alpha_C(B_inv,T2)\n",
    "a_c"
   ]
  },
  {
   "cell_type": "code",
   "execution_count": 10,
   "metadata": {},
   "outputs": [
    {
     "data": {
      "text/plain": [
       "4.3353855545346966e-05"
      ]
     },
     "execution_count": 10,
     "metadata": {},
     "output_type": "execute_result"
    }
   ],
   "source": [
    "a_M=alpha_M(B_inv,T2)\n",
    "a_M"
   ]
  },
  {
   "cell_type": "code",
   "execution_count": 11,
   "metadata": {},
   "outputs": [
    {
     "data": {
      "text/plain": [
       "(array([0.0016115, 0.0015235, 0.001463 , 0.0014185, 0.001367 , 0.0013255,\n",
       "        0.0012825, 0.001255 , 0.001217 , 0.0011795, 0.0011595]),\n",
       " array([2.59693225, 2.32105225, 2.140369  , 2.01214225, 1.868689  ,\n",
       "        1.75695025, 1.64480625, 1.575025  , 1.481089  , 1.39122025,\n",
       "        1.34444025]))"
      ]
     },
     "execution_count": 11,
     "metadata": {},
     "output_type": "execute_result"
    }
   ],
   "source": [
    "dI=0.1*np.ones(len(x))\n",
    "dI_inv=dI/(y**2)\n",
    "dB_inv=dI_inv/a\n",
    "dT=0.01*np.ones(len(x))\n",
    "dT2=2*(x/20)*dT/20\n",
    "dB_inv,B_inv\n",
    "dT2,T2"
   ]
  },
  {
   "cell_type": "code",
   "execution_count": 12,
   "metadata": {},
   "outputs": [],
   "source": [
    "def residuo(x,y,m,c):\n",
    "    return y-func(x,m,c)"
   ]
  },
  {
   "cell_type": "code",
   "execution_count": 13,
   "metadata": {},
   "outputs": [
    {
     "data": {
      "image/png": "[encoded data removed]",
      "text/plain": [
       "<Figure size 504x432 with 1 Axes>"
      ]
     },
     "metadata": {
      "needs_background": "light"
     },
     "output_type": "display_data"
    }
   ],
   "source": [
    "plt.figure(figsize=[7,6])\n",
    "plt.scatter(B_inv,T2, s=13, c=\"red\")\n",
    "plt.plot(B_inv, func(B_inv,m,c), c=\"green\")\n",
    "#plt.errorbar(x,y, yerr=0.01*np.ones(len(x)))\n",
    "plt.xlabel(\"$B^{-1}(T^{-1})$\")\n",
    "plt.ylabel(\"Periodo al cuadrado $T^2(s^2)$\")\n",
    "errorbar(B_inv, T2, xerr=dB_inv, yerr=dT2, fmt=\"o\")\n",
    "plt.savefig(\"movimientoArmonicoMagnetico.png\")"
   ]
  },
  {
   "cell_type": "code",
   "execution_count": 14,
   "metadata": {},
   "outputs": [
    {
     "data": {
      "image/png": "[encoded data removed]",
      "text/plain": [
       "<Figure size 504x180 with 1 Axes>"
      ]
     },
     "metadata": {
      "needs_background": "light"
     },
     "output_type": "display_data"
    }
   ],
   "source": [
    "plt.figure(figsize=[7,2.5])\n",
    "plt.scatter(B_inv, residuo(B_inv,T2,m,c))\n",
    "plt.xlabel(\"$B^{-1}(T^{-1})$\")\n",
    "plt.ylabel(\"Periodo al cuadrado $T^2(s^2)$\")\n",
    "plt.savefig(\"residuoMAM.png\")"
   ]
  },
  {
   "cell_type": "code",
   "execution_count": 15,
   "metadata": {},
   "outputs": [
    {
     "data": {
      "text/plain": [
       "0.016463841944107736"
      ]
     },
     "execution_count": 15,
     "metadata": {},
     "output_type": "execute_result"
    }
   ],
   "source": [
    "a_CU=alpha_CU(B_inv,T2)\n",
    "a_CU"
   ]
  },
  {
   "cell_type": "code",
   "execution_count": 16,
   "metadata": {},
   "outputs": [],
   "source": [
    "masa=142.1\n",
    "diametro=5.33\n",
    "MI=2*(masa/1000)*(diametro/200)**2/5"
   ]
  },
  {
   "cell_type": "code",
   "execution_count": 17,
   "metadata": {},
   "outputs": [
    {
     "data": {
      "text/plain": [
       "0.4765998623577893"
      ]
     },
     "execution_count": 17,
     "metadata": {},
     "output_type": "execute_result"
    }
   ],
   "source": [
    "mu=4*pi**2*MI/m\n",
    "mu"
   ]
  },
  {
   "cell_type": "code",
   "execution_count": 18,
   "metadata": {},
   "outputs": [
    {
     "data": {
      "text/plain": [
       "0.006179129807112995"
      ]
     },
     "execution_count": 18,
     "metadata": {},
     "output_type": "execute_result"
    }
   ],
   "source": [
    "dmu=4*pi**2*MI*a_M/(m**2)\n",
    "dmu"
   ]
  },
  {
   "cell_type": "code",
   "execution_count": 19,
   "metadata": {},
   "outputs": [],
   "source": [
    "masa=np.array([0\n",
    ",0.0012\n",
    ",0.0023\n",
    ",0.0035\n",
    ",0.0047\n",
    ",0.0052\n",
    ",0.0063\n",
    ",0.0074\n",
    "])\n",
    "z=np.array([0\n",
    ",0.0007,0.0013,0.0024,0.0035,0.0039,0.0048,0.0053\n",
    "\n",
    "])"
   ]
  },
  {
   "cell_type": "code",
   "execution_count": 20,
   "metadata": {},
   "outputs": [
    {
     "data": {
      "text/plain": [
       "(1.3037671071814898, 0.00136, 0.045915848861951394, 0.00015100835479412415)"
      ]
     },
     "execution_count": 20,
     "metadata": {},
     "output_type": "execute_result"
    }
   ],
   "source": [
    "m=pendiente(z,masa)\n",
    "c=intercepto(z,masa)\n",
    "a_M=alpha_M(z,masa)\n",
    "a_c=alpha_C(z,masa)\n",
    "m,a,a_M,a_c"
   ]
  },
  {
   "cell_type": "code",
   "execution_count": 21,
   "metadata": {},
   "outputs": [
    {
     "data": {
      "text/plain": [
       "(array([0.    , 0.0007, 0.0013, 0.0024, 0.0035, 0.0039, 0.0048, 0.0053]),\n",
       " array([0.00014142, 0.00014142, 0.00014142, 0.00014142, 0.00014142,\n",
       "        0.00014142, 0.00014142, 0.00014142]))"
      ]
     },
     "execution_count": 21,
     "metadata": {},
     "output_type": "execute_result"
    }
   ],
   "source": [
    "dz=np.sqrt(2)*0.0001*np.ones(len(z))\n",
    "dmasa=0.0001*np.ones(len(z))\n",
    "z,dz"
   ]
  },
  {
   "cell_type": "code",
   "execution_count": 24,
   "metadata": {},
   "outputs": [
    {
     "data": {
      "image/png": "[encoded data removed]",
      "text/plain": [
       "<Figure size 504x432 with 1 Axes>"
      ]
     },
     "metadata": {
      "needs_background": "light"
     },
     "output_type": "display_data"
    }
   ],
   "source": [
    "plt.figure(figsize=[7,6])\n",
    "plt.scatter(z,masa, s=13, c=\"red\")\n",
    "plt.plot(z, func(z,m,c), c=\"green\")\n",
    "#plt.errorbar(x,y, yerr=0.01*np.ones(len(x)))\n",
    "plt.xlabel(\"Elongación (m)\")\n",
    "plt.ylabel(\"Masa (kg)\")\n",
    "plt.xlim(-0.001,0.006)\n",
    "plt.ylim(-0.001,0.009)\n",
    "errorbar(z, masa, xerr=dz, yerr=dmasa, fmt=\"o\")\n",
    "plt.savefig(\"constanteResorte.png\")"
   ]
  },
  {
   "cell_type": "code",
   "execution_count": 25,
   "metadata": {},
   "outputs": [
    {
     "data": {
      "image/png": "[encoded data removed]",
      "text/plain": [
       "<Figure size 504x180 with 1 Axes>"
      ]
     },
     "metadata": {
      "needs_background": "light"
     },
     "output_type": "display_data"
    }
   ],
   "source": [
    "plt.figure(figsize=[7,2.5])\n",
    "plt.scatter(z, residuo(z,masa,m,c))\n",
    "plt.xlabel(\"Elongación (m)\")\n",
    "plt.ylabel(\"Masa (kg)\")\n",
    "plt.xlim(-0.001,0.006)\n",
    "plt.savefig(\"residuoResorte.png\")"
   ]
  },
  {
   "cell_type": "code",
   "execution_count": 26,
   "metadata": {},
   "outputs": [],
   "source": [
    "g=9.77412"
   ]
  },
  {
   "cell_type": "code",
   "execution_count": 27,
   "metadata": {},
   "outputs": [
    {
     "data": {
      "text/plain": [
       "(12.743176157644744, 0.44878701667857634)"
      ]
     },
     "execution_count": 27,
     "metadata": {},
     "output_type": "execute_result"
    }
   ],
   "source": [
    "k=g*m\n",
    "dk=g*a_M\n",
    "k,dk"
   ]
  },
  {
   "cell_type": "code",
   "execution_count": 29,
   "metadata": {},
   "outputs": [],
   "source": [
    "I_t=np.array([0\n",
    ",0.5,\n",
    "1,\n",
    "1.5,\n",
    "2,\n",
    "2.5,\n",
    "3,\n",
    "3.5,\n",
    "4\n",
    "])\n",
    "z=np.array([0\n",
    ",0.0004\n",
    ",0.0008\n",
    ",0.0011\n",
    ",0.0014\n",
    ",0.0016\n",
    ",0.0019\n",
    ",0.0023\n",
    ",0.0025\n",
    "])\n",
    "b=1.69E-2"
   ]
  },
  {
   "cell_type": "code",
   "execution_count": 30,
   "metadata": {},
   "outputs": [],
   "source": [
    "grad=I_t*b"
   ]
  },
  {
   "cell_type": "code",
   "execution_count": 31,
   "metadata": {},
   "outputs": [
    {
     "data": {
      "text/plain": [
       "(0.03629191321499012, 0.00136, 0.00111575034506753, 4.488668861494255e-05)"
      ]
     },
     "execution_count": 31,
     "metadata": {},
     "output_type": "execute_result"
    }
   ],
   "source": [
    "m=pendiente(grad,z)\n",
    "c=intercepto(grad,z)\n",
    "a_M=alpha_M(grad,z)\n",
    "a_c=alpha_C(grad,z)\n",
    "m,a,a_M,a_c"
   ]
  },
  {
   "cell_type": "code",
   "execution_count": 41,
   "metadata": {},
   "outputs": [],
   "source": [
    "dI=0.01*np.ones(len(I_t))\n",
    "dgrad=dI*b\n",
    "grad,dgrad\n",
    "dz=np.sqrt(2)*0.0001*np.ones(len(z))"
   ]
  },
  {
   "cell_type": "code",
   "execution_count": 51,
   "metadata": {},
   "outputs": [
    {
     "data": {
      "image/png": "[encoded data removed]",
      "text/plain": [
       "<Figure size 504x432 with 1 Axes>"
      ]
     },
     "metadata": {
      "needs_background": "light"
     },
     "output_type": "display_data"
    }
   ],
   "source": [
    "plt.figure(figsize=[7,6])\n",
    "plt.scatter(grad,z, s=13, c=\"red\")\n",
    "plt.plot(grad, func(grad,m,c), c=\"green\")\n",
    "#plt.errorbar(x,y, yerr=0.01*np.ones(len(x)))\n",
    "plt.xlabel(\"Gradiente ($T/m$)\")\n",
    "plt.ylabel(\"Elongación(m)\")\n",
    "#plt.xlim(-0.001,0.006)\n",
    "plt.ylim(-0.0005,0.003)\n",
    "errorbar(grad, z, xerr=dgrad, yerr=dz, fmt=\"o\")\n",
    "plt.savefig(\"gradienteMagnetico.png\")"
   ]
  },
  {
   "cell_type": "code",
   "execution_count": 46,
   "metadata": {},
   "outputs": [
    {
     "data": {
      "image/png": "[encoded data removed]",
      "text/plain": [
       "<Figure size 504x180 with 1 Axes>"
      ]
     },
     "metadata": {
      "needs_background": "light"
     },
     "output_type": "display_data"
    }
   ],
   "source": [
    "plt.figure(figsize=[7,2.5])\n",
    "plt.scatter(grad, residuo(grad,z,m,c))\n",
    "plt.ylabel(\"Elongación (m)\")\n",
    "plt.xlabel(\"Gradiente ($T/m$)\")\n",
    "#plt.xlim(-0.001,0.006)\n",
    "plt.savefig(\"residuoGradiente.png\")"
   ]
  },
  {
   "cell_type": "code",
   "execution_count": 48,
   "metadata": {},
   "outputs": [
    {
     "data": {
      "text/plain": [
       "0.46247424319657426"
      ]
     },
     "execution_count": 48,
     "metadata": {},
     "output_type": "execute_result"
    }
   ],
   "source": [
    "mu=k*m\n",
    "mu"
   ]
  },
  {
   "cell_type": "code",
   "execution_count": 50,
   "metadata": {},
   "outputs": [
    {
     "data": {
      "text/plain": [
       "0.021620238870710472"
      ]
     },
     "execution_count": 50,
     "metadata": {},
     "output_type": "execute_result"
    }
   ],
   "source": [
    "dmu=mu*np.sqrt((dk/k)**2+(a_M/m)**2)\n",
    "dmu"
   ]
  },
  {
   "cell_type": "code",
   "execution_count": null,
   "metadata": {},
   "outputs": [],
   "source": []
  }
 ],
 "metadata": {
  "kernelspec": {
   "display_name": "Python 3",
   "language": "python",
   "name": "python3"
  },
  "language_info": {
   "codemirror_mode": {
    "name": "ipython",
    "version": 3
   },
   "file_extension": ".py",
   "mimetype": "text/x-python",
   "name": "python",
   "nbconvert_exporter": "python",
   "pygments_lexer": "ipython3",
   "version": "3.7.3"
  }
 },
 "nbformat": 4,
 "nbformat_minor": 2
}
