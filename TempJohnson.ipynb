{
 "cells": [
  {
   "cell_type": "code",
   "execution_count": 1,
   "metadata": {},
   "outputs": [
    {
     "name": "stdout",
     "output_type": "stream",
     "text": [
      "Populating the interactive namespace from numpy and matplotlib\n"
     ]
    }
   ],
   "source": [
    "%pylab inline"
   ]
  },
  {
   "cell_type": "code",
   "execution_count": 2,
   "metadata": {},
   "outputs": [],
   "source": [
    "T=np.array([104.0255239\n",
    ",110.0195639\n",
    ",116.3882313\n",
    ",123.1315263\n",
    ",128.7509388\n",
    ",134.7449787\n",
    ",143.7360387\n",
    ",150.1047061\n",
    ",156.0987461\n",
    ",160.9689036\n",
    ",167.337571\n",
    ",173.331611\n",
    ",179.3256509\n",
    ",184.5704359\n",
    ",189.8152209\n",
    ",195.4346333\n",
    ",200.6794183\n",
    ",207.4227133\n",
    ",213.0421257\n",
    "])\n",
    "V_J=np.array([4.72222E-12\n",
    ",4.96528E-12\n",
    ",5.25694E-12\n",
    ",5.54167E-12\n",
    ",5.82639E-12\n",
    ",6.11806E-12\n",
    ",6.50694E-12\n",
    ",6.75694E-12\n",
    ",6.94444E-12\n",
    ",7.20833E-12\n",
    ",7.46528E-12\n",
    ",7.73611E-12\n",
    ",7.95833E-12\n",
    ",8.21528E-12\n",
    ",8.40972E-12\n",
    ",8.69444E-12\n",
    ",8.88194E-12\n",
    ",9.22222E-12\n",
    ",9.38889E-12\n",
    "])"
   ]
  },
  {
   "cell_type": "code",
   "execution_count": 3,
   "metadata": {},
   "outputs": [],
   "source": [
    "def delta(x):\n",
    "    return len(x)*np.sum(x**2)-(np.sum(x))**2\n",
    "def intercepto(x,y):\n",
    "    c=(np.sum(x**2)*np.sum(y)-np.sum(x)*np.sum(x*y))\n",
    "    return c/delta(x)\n",
    "def pendiente(x,y):\n",
    "    m= len(x)*np.sum(x*y)-np.sum(x)*np.sum(y)\n",
    "    return m/delta(x)"
   ]
  },
  {
   "cell_type": "code",
   "execution_count": 4,
   "metadata": {},
   "outputs": [
    {
     "data": {
      "text/plain": [
       "(4.300762130551657e-14, 2.6959643558270595e-13)"
      ]
     },
     "execution_count": 4,
     "metadata": {},
     "output_type": "execute_result"
    }
   ],
   "source": [
    "m=pendiente(T,V_J)\n",
    "c=intercepto(T,V_J)\n",
    "m,c"
   ]
  },
  {
   "cell_type": "code",
   "execution_count": 5,
   "metadata": {},
   "outputs": [
    {
     "data": {
      "image/png": "[encoded data removed]",
      "text/plain": [
       "<Figure size 432x288 with 1 Axes>"
      ]
     },
     "metadata": {
      "needs_background": "light"
     },
     "output_type": "display_data"
    }
   ],
   "source": [
    "plt.figure()\n",
    "plt.errorbar(T,V_J,xerr=np.ones(len(T)), yerr=1E-13*np.ones(len(T)), fmt=\"o\", alpha=0.5)\n",
    "plt.plot(T,m*T+c, label=r\"$V_J=$\" +\" {}\".format(4.3008E-14)+r\"$\\frac{V^2}{K}T(K)+$\"+\" {}\".format(2.696E-13)+r\"$V^2$\")\n",
    "plt.ylabel(\"Voltaje Johnson \"+r\"$(V^2)$\")\n",
    "plt.xlabel(\"Temperatura (K)\")\n",
    "plt.legend()\n",
    "plt.savefig(\"temperatureJohnson.jpg\")"
   ]
  },
  {
   "cell_type": "code",
   "execution_count": 6,
   "metadata": {},
   "outputs": [
    {
     "data": {
      "text/plain": [
       "(2.1595232087126846e-16, 3.527691751936389e-14)"
      ]
     },
     "execution_count": 6,
     "metadata": {},
     "output_type": "execute_result"
    }
   ],
   "source": [
    "\n",
    "def alpha_CU(x,y):\n",
    "    a=np.sum((y-pendiente(x,y)*x-intercepto(x,y))**2)\n",
    "    return np.sqrt(a/(len(x)-2))\n",
    "def alpha_C(x,y):\n",
    "    a=np.sum(x**2)\n",
    "    a2=a/delta(x)\n",
    "    return alpha_CU(x,y)*np.sqrt(a2)\n",
    "def alpha_M(x,y):\n",
    "    return alpha_CU(x,y)*np.sqrt(len(x)/delta(x))\n",
    "a_M, a_C=alpha_M(T,V_J),alpha_C(T,V_J)\n",
    "a_M,a_C"
   ]
  },
  {
   "cell_type": "code",
   "execution_count": 8,
   "metadata": {},
   "outputs": [
    {
     "data": {
      "text/plain": [
       "1.0907841649025278e-23"
      ]
     },
     "execution_count": 8,
     "metadata": {},
     "output_type": "execute_result"
    }
   ],
   "source": [
    "kB=m/(4*9997*98600)\n",
    "kB"
   ]
  },
  {
   "cell_type": "code",
   "execution_count": 13,
   "metadata": {},
   "outputs": [],
   "source": [
    "dr=1000\n",
    "dkb=np.sqrt(((a_M*20/7)/(4*9997*98600))**2+(m*dr/(4*9997*(98600)**2))**2)"
   ]
  },
  {
   "cell_type": "code",
   "execution_count": 14,
   "metadata": {},
   "outputs": [
    {
     "data": {
      "text/plain": [
       "1.9164320555108586e-25"
      ]
     },
     "execution_count": 14,
     "metadata": {},
     "output_type": "execute_result"
    }
   ],
   "source": [
    "dkb"
   ]
  },
  {
   "cell_type": "code",
   "execution_count": null,
   "metadata": {},
   "outputs": [],
   "source": []
  }
 ],
 "metadata": {
  "kernelspec": {
   "display_name": "Python 3",
   "language": "python",
   "name": "python3"
  },
  "language_info": {
   "codemirror_mode": {
    "name": "ipython",
    "version": 3
   },
   "file_extension": ".py",
   "mimetype": "text/x-python",
   "name": "python",
   "nbconvert_exporter": "python",
   "pygments_lexer": "ipython3",
   "version": "3.7.3"
  }
 },
 "nbformat": 4,
 "nbformat_minor": 2
}
